{
 "cells": [
  {
   "cell_type": "markdown",
   "id": "1af651b3",
   "metadata": {
    "toc": true
   },
   "source": [
    "<h1>Table of Contents<span class=\"tocSkip\"></span></h1>\n",
    "<div class=\"toc\"><ul class=\"toc-item\"><li><span><a href=\"#Quick-run-through\" data-toc-modified-id=\"Quick-run-through-1\"><span class=\"toc-item-num\">1&nbsp;&nbsp;</span>Quick run through</a></span></li><li><span><a href=\"#Step-by-step-explanation\" data-toc-modified-id=\"Step-by-step-explanation-2\"><span class=\"toc-item-num\">2&nbsp;&nbsp;</span>Step-by-step explanation</a></span><ul class=\"toc-item\"><li><span><a href=\"#Define-your-StructCodecSpecs\" data-toc-modified-id=\"Define-your-StructCodecSpecs-2.1\"><span class=\"toc-item-num\">2.1&nbsp;&nbsp;</span>Define your StructCodecSpecs</a></span></li><li><span><a href=\"#Define-your-Encoder\" data-toc-modified-id=\"Define-your-Encoder-2.2\"><span class=\"toc-item-num\">2.2&nbsp;&nbsp;</span>Define your Encoder</a></span></li><li><span><a href=\"#Define-your-Decoder\" data-toc-modified-id=\"Define-your-Decoder-2.3\"><span class=\"toc-item-num\">2.3&nbsp;&nbsp;</span>Define your Decoder</a></span></li></ul></li><li><span><a href=\"#Encoding-a-waveform\" data-toc-modified-id=\"Encoding-a-waveform-3\"><span class=\"toc-item-num\">3&nbsp;&nbsp;</span>Encoding a waveform</a></span><ul class=\"toc-item\"><li><span><a href=\"#Create-a-synthetic-waveform-using-hum\" data-toc-modified-id=\"Create-a-synthetic-waveform-using-hum-3.1\"><span class=\"toc-item-num\">3.1&nbsp;&nbsp;</span>Create a synthetic waveform using <code>hum</code></a></span></li><li><span><a href=\"#Encode-the-wf\" data-toc-modified-id=\"Encode-the-wf-3.2\"><span class=\"toc-item-num\">3.2&nbsp;&nbsp;</span>Encode the wf</a></span></li><li><span><a href=\"#Decode-and-compare-to-wf_mix\" data-toc-modified-id=\"Decode-and-compare-to-wf_mix-3.3\"><span class=\"toc-item-num\">3.3&nbsp;&nbsp;</span>Decode and compare to wf_mix</a></span></li></ul></li><li><span><a href=\"#Encoding-a-pandas-dataframe\" data-toc-modified-id=\"Encoding-a-pandas-dataframe-4\"><span class=\"toc-item-num\">4&nbsp;&nbsp;</span>Encoding a pandas dataframe</a></span><ul class=\"toc-item\"><li><span><a href=\"#Create/import-your-dataframe\" data-toc-modified-id=\"Create/import-your-dataframe-4.1\"><span class=\"toc-item-num\">4.1&nbsp;&nbsp;</span>Create/import your dataframe</a></span></li><li><span><a href=\"#Prep-the-dataframe-for-encoding\" data-toc-modified-id=\"Prep-the-dataframe-for-encoding-4.2\"><span class=\"toc-item-num\">4.2&nbsp;&nbsp;</span>Prep the dataframe for encoding</a></span></li><li><span><a href=\"#Encode-the-list-of-dicts\" data-toc-modified-id=\"Encode-the-list-of-dicts-4.3\"><span class=\"toc-item-num\">4.3&nbsp;&nbsp;</span>Encode the list of dicts</a></span></li></ul></li><li><span><a href=\"#Miscellaneous-information\" data-toc-modified-id=\"Miscellaneous-information-5\"><span class=\"toc-item-num\">5&nbsp;&nbsp;</span>Miscellaneous information</a></span><ul class=\"toc-item\"><li><span><a href=\"#Byte-order,-Size,-and-Alignment\" data-toc-modified-id=\"Byte-order,-Size,-and-Alignment-5.1\"><span class=\"toc-item-num\">5.1&nbsp;&nbsp;</span>Byte order, Size, and Alignment</a></span></li><li><span><a href=\"#Performance-of-IterativeDecoder-versus-ChunkedDecoder\" data-toc-modified-id=\"Performance-of-IterativeDecoder-versus-ChunkedDecoder-5.2\"><span class=\"toc-item-num\">5.2&nbsp;&nbsp;</span>Performance of <code>IterativeDecoder</code> versus <code>ChunkedDecoder</code></a></span></li></ul></li></ul></div>"
   ]
  },
  {
   "cell_type": "markdown",
   "id": "4d94e39d",
   "metadata": {},
   "source": [
    "This notebook shows various examples of recode and it how it can be used with:\n",
    "- Single channel numerical streams\n",
    "- Multi-channel numerical streams\n",
    "- DataFrames\n",
    "- Iterators"
   ]
  },
  {
   "cell_type": "code",
   "execution_count": 1,
   "id": "1d88c4bf",
   "metadata": {
    "ExecuteTime": {
     "end_time": "2021-06-23T15:28:57.918830Z",
     "start_time": "2021-06-23T15:28:57.906626Z"
    }
   },
   "outputs": [],
   "source": [
    "from recode import (ChunkedEncoder, \n",
    "                    ChunkedDecoder, \n",
    "                    MetaEncoder, \n",
    "                    MetaDecoder, \n",
    "                    IterativeDecoder, \n",
    "                    StructCodecSpecs, \n",
    "                    specs_from_frames,\n",
    "                    frame_to_meta,\n",
    "                    meta_to_frame)"
   ]
  },
  {
   "cell_type": "markdown",
   "id": "03761b35",
   "metadata": {},
   "source": [
    "## Quick run through"
   ]
  },
  {
   "cell_type": "markdown",
   "id": "649f03f7",
   "metadata": {},
   "source": [
    "First define the frame you want to encode"
   ]
  },
  {
   "cell_type": "code",
   "execution_count": 2,
   "id": "63b0dc58",
   "metadata": {
    "ExecuteTime": {
     "end_time": "2021-06-23T15:28:58.293983Z",
     "start_time": "2021-06-23T15:28:58.290579Z"
    }
   },
   "outputs": [],
   "source": [
    "frame = [1,2,3]"
   ]
  },
  {
   "cell_type": "markdown",
   "id": "bb16bb44",
   "metadata": {},
   "source": [
    "Next define the specifications for that encoding"
   ]
  },
  {
   "cell_type": "code",
   "execution_count": 3,
   "id": "9d0a6a98",
   "metadata": {
    "ExecuteTime": {
     "end_time": "2021-06-23T15:28:58.538479Z",
     "start_time": "2021-06-23T15:28:58.526827Z"
    }
   },
   "outputs": [
    {
     "data": {
      "text/plain": [
       "StructCodecSpecs(chk_format='h', n_channels=1, chk_size_bytes=2)"
      ]
     },
     "execution_count": 3,
     "metadata": {},
     "output_type": "execute_result"
    }
   ],
   "source": [
    "specs = StructCodecSpecs(chk_format='h')\n",
    "specs"
   ]
  },
  {
   "cell_type": "markdown",
   "id": "55b278a8",
   "metadata": {},
   "source": [
    "Next define an encoder and encode your frame to bytes"
   ]
  },
  {
   "cell_type": "code",
   "execution_count": 4,
   "id": "aec411e5",
   "metadata": {
    "ExecuteTime": {
     "end_time": "2021-06-23T15:28:58.771657Z",
     "start_time": "2021-06-23T15:28:58.765941Z"
    }
   },
   "outputs": [
    {
     "data": {
      "text/plain": [
       "b'\\x01\\x00\\x02\\x00\\x03\\x00'"
      ]
     },
     "execution_count": 4,
     "metadata": {},
     "output_type": "execute_result"
    }
   ],
   "source": [
    "encoder = ChunkedEncoder(frame_to_chk=specs.frame_to_chk)\n",
    "b = encoder(frame)\n",
    "b"
   ]
  },
  {
   "cell_type": "markdown",
   "id": "cd9d4e45",
   "metadata": {},
   "source": [
    "Once you need your original frame again, define a decoder and decode your frame"
   ]
  },
  {
   "cell_type": "code",
   "execution_count": 5,
   "id": "5f49bc66",
   "metadata": {
    "ExecuteTime": {
     "end_time": "2021-06-23T15:28:59.010758Z",
     "start_time": "2021-06-23T15:28:59.005179Z"
    }
   },
   "outputs": [
    {
     "data": {
      "text/plain": [
       "[1, 2, 3]"
      ]
     },
     "execution_count": 5,
     "metadata": {},
     "output_type": "execute_result"
    }
   ],
   "source": [
    "decoder = ChunkedDecoder(specs.chk_to_frame)\n",
    "decoded_frames = list(decoder(b))\n",
    "decoded_frames"
   ]
  },
  {
   "cell_type": "markdown",
   "id": "3176fb1f",
   "metadata": {},
   "source": [
    "## Step-by-step explanation"
   ]
  },
  {
   "cell_type": "markdown",
   "id": "37275953",
   "metadata": {},
   "source": [
    "### Define your StructCodecSpecs"
   ]
  },
  {
   "cell_type": "markdown",
   "id": "51347767",
   "metadata": {},
   "source": [
    "StructCodecSpecs is used to define the specs for making codecs for fixed size structured chunks serialization and deserialization of sequences, tabular data, and time-series. This definition is based on format strings of the [python struct module](https://docs.python.org/3/library/struct.html#format-strings).\n",
    "\n",
    "There are two ways to define StructCodecSpecs, the first being to explicitly define it using the StructCodecSpecs class. StructCodecSpecs takes three arguments: `chk_format`, `n_channels`, and `chk_size_bytes`. Only `chk_format` is required, as `n_channels` and `chk_size_bytes` can be determined based on `chk_format`. If `n_channels` is given, then `chk_format` should only contain one format character, as it will be assumed that all channels have the same data type. If this is not the case, then do not provide an argument for `n_channels` and instead pass a string with the format character matching the data type for each channel in the frame to `chk_format`. For example if the first channel contains integers and the second contains floats, then `chk_format = 'hd'`."
   ]
  },
  {
   "cell_type": "code",
   "execution_count": 6,
   "id": "aaa6e364",
   "metadata": {
    "ExecuteTime": {
     "end_time": "2021-06-23T15:28:59.506796Z",
     "start_time": "2021-06-23T15:28:59.501584Z"
    }
   },
   "outputs": [
    {
     "data": {
      "text/plain": [
       "StructCodecSpecs(chk_format='h', n_channels=1, chk_size_bytes=2)"
      ]
     },
     "execution_count": 6,
     "metadata": {},
     "output_type": "execute_result"
    }
   ],
   "source": [
    "frame = [1,2,3]\n",
    "specs = StructCodecSpecs(chk_format='h')\n",
    "specs"
   ]
  },
  {
   "cell_type": "markdown",
   "id": "214f3c45",
   "metadata": {},
   "source": [
    "The second way to define StructCodecSpecs is to use `specs_from_frames` which will implictly define StructCodecSpecs based on the frame that is going to be encoded/decoded. This function will return a tuple containing an iterator of the passed frame and the defined StructCodecSpecs. The first element of the tuple can be ignored if the frame passed is not an iterator."
   ]
  },
  {
   "cell_type": "code",
   "execution_count": 7,
   "id": "480f8fff",
   "metadata": {
    "ExecuteTime": {
     "end_time": "2021-06-23T15:28:59.783313Z",
     "start_time": "2021-06-23T15:28:59.778820Z"
    }
   },
   "outputs": [
    {
     "data": {
      "text/plain": [
       "StructCodecSpecs(chk_format='h', n_channels=1, chk_size_bytes=2)"
      ]
     },
     "execution_count": 7,
     "metadata": {},
     "output_type": "execute_result"
    }
   ],
   "source": [
    "_, specs = specs_from_frames(frame)\n",
    "specs"
   ]
  },
  {
   "cell_type": "markdown",
   "id": "26814ff8",
   "metadata": {},
   "source": [
    "If frame is an iterator, then redefine frame as the first argument of the tuple so the first element of frame is not lost for encoding."
   ]
  },
  {
   "cell_type": "code",
   "execution_count": 8,
   "id": "9b837a82",
   "metadata": {
    "ExecuteTime": {
     "end_time": "2021-06-23T15:29:00.112922Z",
     "start_time": "2021-06-23T15:29:00.107290Z"
    }
   },
   "outputs": [
    {
     "data": {
      "text/plain": [
       "(StructCodecSpecs(chk_format='hh', n_channels=2, chk_size_bytes=4),\n",
       " [[1, 2], [3, 4]])"
      ]
     },
     "execution_count": 8,
     "metadata": {},
     "output_type": "execute_result"
    }
   ],
   "source": [
    "frame = iter([[1,2], [3,4]])\n",
    "frame, specs = specs_from_frames(frame)\n",
    "specs, list(frame)"
   ]
  },
  {
   "cell_type": "markdown",
   "id": "e7556158",
   "metadata": {},
   "source": [
    "### Define your Encoder"
   ]
  },
  {
   "cell_type": "markdown",
   "id": "b528fd02",
   "metadata": {},
   "source": [
    "Your Encoder will allow you to, you guessed it, encode your frames! There are two Encoders currently defined in recode: `ChunkedEncoder` and `MetaEncoder`.\n",
    "\n",
    "`ChunkedEncoder` should be your goto encoder for sequences, while `MetaEncoder` works best for tabular data (currently must be in the format of list of dicts)."
   ]
  },
  {
   "cell_type": "code",
   "execution_count": 9,
   "id": "9794ed2c",
   "metadata": {
    "ExecuteTime": {
     "end_time": "2021-06-23T15:29:00.579176Z",
     "start_time": "2021-06-23T15:29:00.572620Z"
    }
   },
   "outputs": [
    {
     "name": "stdout",
     "output_type": "stream",
     "text": [
      "StructCodecSpecs(chk_format='h', n_channels=1, chk_size_bytes=2)\n"
     ]
    },
    {
     "data": {
      "text/plain": [
       "b'\\x01\\x00\\x02\\x00\\x03\\x00'"
      ]
     },
     "execution_count": 9,
     "metadata": {},
     "output_type": "execute_result"
    }
   ],
   "source": [
    "frame = [1,2,3]\n",
    "_, specs = specs_from_frames(frame)\n",
    "print(specs)\n",
    "encoder = ChunkedEncoder(frame_to_chk=specs.frame_to_chk)\n",
    "b = encoder(frame)\n",
    "b"
   ]
  },
  {
   "cell_type": "markdown",
   "id": "2b1fb31d",
   "metadata": {},
   "source": [
    "When using a `MetaEncoder`, an extra argument named frame_to_meta is required, which can be easily imported from recode!"
   ]
  },
  {
   "cell_type": "code",
   "execution_count": 10,
   "id": "47c6fd96",
   "metadata": {
    "ExecuteTime": {
     "end_time": "2021-06-23T15:29:01.138776Z",
     "start_time": "2021-06-23T15:29:01.131069Z"
    }
   },
   "outputs": [
    {
     "name": "stdout",
     "output_type": "stream",
     "text": [
      "StructCodecSpecs(chk_format='hh', n_channels=2, chk_size_bytes=4)\n"
     ]
    },
    {
     "data": {
      "text/plain": [
       "b'\\x07\\x00foo.bar\\x01\\x00\\x01\\x00\\x02\\x00\\x02\\x00\\x03\\x00\\x04\\x00'"
      ]
     },
     "execution_count": 10,
     "metadata": {},
     "output_type": "execute_result"
    }
   ],
   "source": [
    "frame = [{'foo': 1, 'bar': 1}, {'foo': 2, 'bar': 2}, {'foo': 3, 'bar': 4}]\n",
    "_, specs = specs_from_frames(frame)\n",
    "print(specs)\n",
    "encoder = MetaEncoder(frame_to_chk=specs.frame_to_chk, frame_to_meta=frame_to_meta)\n",
    "b = encoder(frame)\n",
    "b"
   ]
  },
  {
   "cell_type": "markdown",
   "id": "689685be",
   "metadata": {},
   "source": [
    "### Define your Decoder"
   ]
  },
  {
   "cell_type": "markdown",
   "id": "0e22872d",
   "metadata": {},
   "source": [
    "Next up your Decoder will allow you to decode your encoded bytes. There are three Encoders currently defined in recode: `ChunkedDecoder`, `IterativeDecoder`, and `MetaDecoder`.\n",
    "\n",
    "Either `ChunkedDecoder` or `IterativeDecoder` will work well for sequences, with the only difference being that `IterativeDecoder` returns an iterator of decoded chunks while `ChunkedDecoder` returns a mapping which can be converted to an iterable. `MetaDecoder` works best for tabular data encoded with `MetaEncoder`. "
   ]
  },
  {
   "cell_type": "code",
   "execution_count": 11,
   "id": "27e0a390",
   "metadata": {
    "ExecuteTime": {
     "end_time": "2021-06-23T15:29:01.897685Z",
     "start_time": "2021-06-23T15:29:01.890258Z"
    }
   },
   "outputs": [
    {
     "name": "stdout",
     "output_type": "stream",
     "text": [
      "StructCodecSpecs(chk_format='h', n_channels=1, chk_size_bytes=2)\n"
     ]
    },
    {
     "data": {
      "text/plain": [
       "[1, 2, 3]"
      ]
     },
     "execution_count": 11,
     "metadata": {},
     "output_type": "execute_result"
    }
   ],
   "source": [
    "frame = [1,2,3]\n",
    "_, specs = specs_from_frames(frame)\n",
    "print(specs)\n",
    "encoder = ChunkedEncoder(frame_to_chk=specs.frame_to_chk)\n",
    "decoder = ChunkedDecoder(specs.chk_to_frame)\n",
    "b = encoder(frame)\n",
    "list(decoder(b))"
   ]
  },
  {
   "cell_type": "markdown",
   "id": "369f16de",
   "metadata": {},
   "source": [
    "As is shown in the following example, an `IterativeDecoder` will return an unpack_iterator which which can easily be converted to a standard iterable like a list, or be used as an iterator."
   ]
  },
  {
   "cell_type": "code",
   "execution_count": 12,
   "id": "dcbad101",
   "metadata": {
    "ExecuteTime": {
     "end_time": "2021-06-23T15:29:02.184963Z",
     "start_time": "2021-06-23T15:29:02.178041Z"
    }
   },
   "outputs": [
    {
     "name": "stdout",
     "output_type": "stream",
     "text": [
      "StructCodecSpecs(chk_format='hh', n_channels=2, chk_size_bytes=4)\n",
      "<class 'unpack_iterator'>\n"
     ]
    },
    {
     "data": {
      "text/plain": [
       "((1, 1), (2, 2))"
      ]
     },
     "execution_count": 12,
     "metadata": {},
     "output_type": "execute_result"
    }
   ],
   "source": [
    "frame = [[1,1],[2,2]]\n",
    "_, specs = specs_from_frames(frame)\n",
    "print(specs)\n",
    "encoder = ChunkedEncoder(frame_to_chk=specs.frame_to_chk)\n",
    "decoder = IterativeDecoder(chk_to_frame=specs.chk_to_frame)\n",
    "b = encoder(frame)\n",
    "iter_frames = decoder(b)\n",
    "print(type(iter_frames))\n",
    "next(iter_frames), next(iter_frames)"
   ]
  },
  {
   "cell_type": "markdown",
   "id": "4bcf7f74",
   "metadata": {},
   "source": [
    "When using a `MetaDecoder`, an extra argument named meta_to_frame is required, which can be easily imported from recode!"
   ]
  },
  {
   "cell_type": "code",
   "execution_count": 13,
   "id": "f78ed20e",
   "metadata": {
    "ExecuteTime": {
     "end_time": "2021-06-23T15:29:02.458540Z",
     "start_time": "2021-06-23T15:29:02.451016Z"
    }
   },
   "outputs": [
    {
     "name": "stdout",
     "output_type": "stream",
     "text": [
      "StructCodecSpecs(chk_format='hh', n_channels=2, chk_size_bytes=4)\n"
     ]
    },
    {
     "data": {
      "text/plain": [
       "[{'foo': 1, 'bar': 1}, {'foo': 2, 'bar': 2}, {'foo': 3, 'bar': 4}]"
      ]
     },
     "execution_count": 13,
     "metadata": {},
     "output_type": "execute_result"
    }
   ],
   "source": [
    "frame = [{'foo': 1, 'bar': 1}, {'foo': 2, 'bar': 2}, {'foo': 3, 'bar': 4}]\n",
    "_, specs = specs_from_frames(frame)\n",
    "print(specs)\n",
    "encoder = MetaEncoder(frame_to_chk=specs.frame_to_chk, frame_to_meta=frame_to_meta)\n",
    "decoder = MetaDecoder(chk_to_frame=specs.chk_to_frame, meta_to_frame=meta_to_frame)\n",
    "b = encoder(frame)\n",
    "decoded_frames = decoder(b)\n",
    "decoded_frames"
   ]
  },
  {
   "cell_type": "markdown",
   "id": "690635e4",
   "metadata": {},
   "source": [
    "## Encoding a waveform"
   ]
  },
  {
   "cell_type": "markdown",
   "id": "7f74be55",
   "metadata": {},
   "source": [
    "### Create a synthetic waveform using `hum`"
   ]
  },
  {
   "cell_type": "code",
   "execution_count": 14,
   "id": "aecdf25e",
   "metadata": {
    "ExecuteTime": {
     "end_time": "2021-06-23T15:29:03.671796Z",
     "start_time": "2021-06-23T15:29:02.853740Z"
    }
   },
   "outputs": [],
   "source": [
    "from hum.gen.sine_mix import freq_based_stationary_wf\n",
    "import matplotlib.pyplot as plt\n",
    "import numpy as np\n",
    "\n",
    "DFLT_N_SAMPLES = 21 * 2048\n",
    "DFLT_SR = 44100"
   ]
  },
  {
   "cell_type": "code",
   "execution_count": 15,
   "id": "3725f801",
   "metadata": {
    "ExecuteTime": {
     "end_time": "2021-06-23T15:29:03.818500Z",
     "start_time": "2021-06-23T15:29:03.674178Z"
    }
   },
   "outputs": [
    {
     "data": {
      "image/png": "[encoded data removed]",
      "text/plain": [
       "<Figure size 432x288 with 1 Axes>"
      ]
     },
     "metadata": {
      "needs_background": "light"
     },
     "output_type": "display_data"
    }
   ],
   "source": [
    "wf_mix = freq_based_stationary_wf(freqs=(200, 400, 600, 800), weights=None,\n",
    "                             n_samples = DFLT_N_SAMPLES, sr = DFLT_SR)\n",
    "plt.plot(wf_mix[:300]);"
   ]
  },
  {
   "cell_type": "code",
   "execution_count": 16,
   "id": "80b43862",
   "metadata": {
    "ExecuteTime": {
     "end_time": "2021-06-23T15:29:03.823984Z",
     "start_time": "2021-06-23T15:29:03.820495Z"
    }
   },
   "outputs": [
    {
     "data": {
      "text/plain": [
       "array([0.        , 0.07114157, 0.14170624, ..., 0.49480205, 0.54853009,\n",
       "       0.5979443 ])"
      ]
     },
     "execution_count": 16,
     "metadata": {},
     "output_type": "execute_result"
    }
   ],
   "source": [
    "wf_mix"
   ]
  },
  {
   "cell_type": "markdown",
   "id": "acb16d55",
   "metadata": {},
   "source": [
    "### Encode the wf"
   ]
  },
  {
   "cell_type": "code",
   "execution_count": 17,
   "id": "876a7ae5",
   "metadata": {
    "ExecuteTime": {
     "end_time": "2021-06-23T15:29:04.636145Z",
     "start_time": "2021-06-23T15:29:04.615286Z"
    }
   },
   "outputs": [
    {
     "data": {
      "text/plain": [
       "b'\\x00\\x00\\x00\\x00\\x00\\x00\\x00\\x00\\x1b:\\x11\\x8dU6\\xb2?\\xb8!\\xa2\\x15n#\\xc2?\\xe6I\\xedz\\x15\\x06\\xcb?L;\\xe6\\xfah\\xd8\\xd1?}\\x8c\\x9b\\x9a\\xf5\\x08\\xd6?D\\xcc\\xf1\\x897\\x0c\\xda?\\xe3\\xc5\\xbeb/\\xda\\xdd?DE\\xb6K\\xb6\\xb5\\xe0?\\x82|\\xfcz\\x90\\\\\\xe2?\\xae3:$\\x99\\xde\\xe3?\\x1e\\x95\\xbe\\xef$9\\xe5?\\x81\\xd7\\xdc\\xec'"
      ]
     },
     "execution_count": 17,
     "metadata": {},
     "output_type": "execute_result"
    }
   ],
   "source": [
    "specs = StructCodecSpecs('d')\n",
    "encoder = ChunkedEncoder(frame_to_chk=specs.frame_to_chk)\n",
    "decoder = ChunkedDecoder(chk_to_frame=specs.chk_to_frame)\n",
    "b = encoder(wf_mix)\n",
    "b[:100]"
   ]
  },
  {
   "cell_type": "markdown",
   "id": "156fbf6e",
   "metadata": {},
   "source": [
    "### Decode and compare to wf_mix"
   ]
  },
  {
   "cell_type": "code",
   "execution_count": 18,
   "id": "03efeb7f",
   "metadata": {
    "ExecuteTime": {
     "end_time": "2021-06-23T15:29:05.182379Z",
     "start_time": "2021-06-23T15:29:05.032687Z"
    }
   },
   "outputs": [
    {
     "data": {
      "image/png": "[encoded data removed]",
      "text/plain": [
       "<Figure size 432x288 with 1 Axes>"
      ]
     },
     "metadata": {
      "needs_background": "light"
     },
     "output_type": "display_data"
    }
   ],
   "source": [
    "decoded_wf_mix = decoder(b)\n",
    "plt.plot(decoded_wf_mix[:300]);"
   ]
  },
  {
   "cell_type": "code",
   "execution_count": 19,
   "id": "b2e2bf27",
   "metadata": {
    "ExecuteTime": {
     "end_time": "2021-06-23T15:29:05.241796Z",
     "start_time": "2021-06-23T15:29:05.234257Z"
    }
   },
   "outputs": [
    {
     "data": {
      "text/plain": [
       "True"
      ]
     },
     "execution_count": 19,
     "metadata": {},
     "output_type": "execute_result"
    }
   ],
   "source": [
    "np.all(decoded_wf_mix == wf_mix)"
   ]
  },
  {
   "cell_type": "markdown",
   "id": "ab86023c",
   "metadata": {},
   "source": [
    "## Encoding a pandas dataframe"
   ]
  },
  {
   "cell_type": "code",
   "execution_count": 20,
   "id": "74c2bbca",
   "metadata": {
    "ExecuteTime": {
     "end_time": "2021-06-23T15:29:05.650874Z",
     "start_time": "2021-06-23T15:29:05.648078Z"
    }
   },
   "outputs": [],
   "source": [
    "import pandas as pd"
   ]
  },
  {
   "cell_type": "markdown",
   "id": "ca544896",
   "metadata": {},
   "source": [
    "### Create/import your dataframe"
   ]
  },
  {
   "cell_type": "code",
   "execution_count": 21,
   "id": "0636c500",
   "metadata": {
    "ExecuteTime": {
     "end_time": "2021-06-23T15:29:06.084734Z",
     "start_time": "2021-06-23T15:29:06.072875Z"
    }
   },
   "outputs": [
    {
     "data": {
      "text/html": [
       "<div>\n",
       "<style scoped>\n",
       "    .dataframe tbody tr th:only-of-type {\n",
       "        vertical-align: middle;\n",
       "    }\n",
       "\n",
       "    .dataframe tbody tr th {\n",
       "        vertical-align: top;\n",
       "    }\n",
       "\n",
       "    .dataframe thead th {\n",
       "        text-align: right;\n",
       "    }\n",
       "</style>\n",
       "<table border=\"1\" class=\"dataframe\">\n",
       "  <thead>\n",
       "    <tr style=\"text-align: right;\">\n",
       "      <th></th>\n",
       "      <th>foo</th>\n",
       "      <th>bar</th>\n",
       "      <th>set</th>\n",
       "    </tr>\n",
       "  </thead>\n",
       "  <tbody>\n",
       "    <tr>\n",
       "      <th>0</th>\n",
       "      <td>1</td>\n",
       "      <td>2</td>\n",
       "      <td>3</td>\n",
       "    </tr>\n",
       "    <tr>\n",
       "      <th>1</th>\n",
       "      <td>4</td>\n",
       "      <td>5</td>\n",
       "      <td>6</td>\n",
       "    </tr>\n",
       "  </tbody>\n",
       "</table>\n",
       "</div>"
      ],
      "text/plain": [
       "   foo  bar  set\n",
       "0    1    2    3\n",
       "1    4    5    6"
      ]
     },
     "execution_count": 21,
     "metadata": {},
     "output_type": "execute_result"
    }
   ],
   "source": [
    "df = pd.DataFrame(data = [[1,2,3],[4,5,6]], columns = ['foo', 'bar', 'set'])\n",
    "df"
   ]
  },
  {
   "cell_type": "markdown",
   "id": "960b63f7",
   "metadata": {},
   "source": [
    "### Prep the dataframe for encoding"
   ]
  },
  {
   "cell_type": "code",
   "execution_count": 22,
   "id": "12d25e20",
   "metadata": {
    "ExecuteTime": {
     "end_time": "2021-06-23T15:29:06.574394Z",
     "start_time": "2021-06-23T15:29:06.568038Z"
    }
   },
   "outputs": [
    {
     "data": {
      "text/plain": [
       "[{'foo': 1, 'bar': 2, 'set': 3}, {'foo': 4, 'bar': 5, 'set': 6}]"
      ]
     },
     "execution_count": 22,
     "metadata": {},
     "output_type": "execute_result"
    }
   ],
   "source": [
    "frame = df.to_dict('records')\n",
    "frame"
   ]
  },
  {
   "cell_type": "markdown",
   "id": "38521c7d",
   "metadata": {},
   "source": [
    "### Encode the list of dicts"
   ]
  },
  {
   "cell_type": "code",
   "execution_count": 23,
   "id": "c1c232b4",
   "metadata": {
    "ExecuteTime": {
     "end_time": "2021-06-23T15:29:07.396431Z",
     "start_time": "2021-06-23T15:29:07.390248Z"
    }
   },
   "outputs": [
    {
     "data": {
      "text/plain": [
       "b'\\x0b\\x00foo.bar.set\\x01\\x00\\x02\\x00\\x03\\x00\\x04\\x00\\x05\\x00\\x06\\x00'"
      ]
     },
     "execution_count": 23,
     "metadata": {},
     "output_type": "execute_result"
    }
   ],
   "source": [
    "_, specs = specs_from_frames(frame)\n",
    "encoder = MetaEncoder(frame_to_chk=specs.frame_to_chk, frame_to_meta=frame_to_meta)\n",
    "decoder = MetaDecoder(chk_to_frame=specs.chk_to_frame, meta_to_frame=meta_to_frame)\n",
    "b = encoder(frame)\n",
    "b"
   ]
  },
  {
   "cell_type": "code",
   "execution_count": 24,
   "id": "8fcc2ff2",
   "metadata": {
    "ExecuteTime": {
     "end_time": "2021-06-23T15:29:08.879305Z",
     "start_time": "2021-06-23T15:29:08.873932Z"
    }
   },
   "outputs": [
    {
     "data": {
      "text/plain": [
       "[{'foo': 1, 'bar': 2, 'set': 3}, {'foo': 4, 'bar': 5, 'set': 6}]"
      ]
     },
     "execution_count": 24,
     "metadata": {},
     "output_type": "execute_result"
    }
   ],
   "source": [
    "decoded_frame = decoder(b)\n",
    "decoded_frame"
   ]
  },
  {
   "cell_type": "code",
   "execution_count": 25,
   "id": "3412c0e9",
   "metadata": {
    "ExecuteTime": {
     "end_time": "2021-06-23T15:29:10.332637Z",
     "start_time": "2021-06-23T15:29:10.319935Z"
    }
   },
   "outputs": [
    {
     "name": "stdout",
     "output_type": "stream",
     "text": [
      "True\n"
     ]
    },
    {
     "data": {
      "text/html": [
       "<div>\n",
       "<style scoped>\n",
       "    .dataframe tbody tr th:only-of-type {\n",
       "        vertical-align: middle;\n",
       "    }\n",
       "\n",
       "    .dataframe tbody tr th {\n",
       "        vertical-align: top;\n",
       "    }\n",
       "\n",
       "    .dataframe thead th {\n",
       "        text-align: right;\n",
       "    }\n",
       "</style>\n",
       "<table border=\"1\" class=\"dataframe\">\n",
       "  <thead>\n",
       "    <tr style=\"text-align: right;\">\n",
       "      <th></th>\n",
       "      <th>foo</th>\n",
       "      <th>bar</th>\n",
       "      <th>set</th>\n",
       "    </tr>\n",
       "  </thead>\n",
       "  <tbody>\n",
       "    <tr>\n",
       "      <th>0</th>\n",
       "      <td>1</td>\n",
       "      <td>2</td>\n",
       "      <td>3</td>\n",
       "    </tr>\n",
       "    <tr>\n",
       "      <th>1</th>\n",
       "      <td>4</td>\n",
       "      <td>5</td>\n",
       "      <td>6</td>\n",
       "    </tr>\n",
       "  </tbody>\n",
       "</table>\n",
       "</div>"
      ],
      "text/plain": [
       "   foo  bar  set\n",
       "0    1    2    3\n",
       "1    4    5    6"
      ]
     },
     "execution_count": 25,
     "metadata": {},
     "output_type": "execute_result"
    }
   ],
   "source": [
    "decoded_df = pd.DataFrame(decoded_frame)\n",
    "print(np.all(decoded_df == df))\n",
    "decoded_df"
   ]
  },
  {
   "cell_type": "markdown",
   "id": "6ed69a26",
   "metadata": {},
   "source": [
    "## Miscellaneous information"
   ]
  },
  {
   "cell_type": "markdown",
   "id": "b32ae0fe",
   "metadata": {},
   "source": [
    "### Byte order, Size, and Alignment"
   ]
  },
  {
   "cell_type": "markdown",
   "id": "e9aa3aeb",
   "metadata": {},
   "source": [
    "This table provides the characters associated with Byte order, Size, and Alignment. If one of these characters is not given as the first character of the format string, then `@` will be assumed. More information about Byte order, Size, and Alignment can be found [here](https://docs.python.org/3/library/struct.html#byte-order-size-and-alignment).\n",
    "\n",
    "|Character|Byte order|Size|Alignment|\n",
    "|---------|----------|----|---------|\n",
    "|@|native|native|native|\n",
    "|=|native|standard|none|\n",
    "|<|little-endian|standard|none|\n",
    "|>|big-endian|standard|none|\n",
    "|!|network (=big-endian)|standard|none|"
   ]
  },
  {
   "cell_type": "markdown",
   "id": "ed943886",
   "metadata": {},
   "source": [
    "### Performance of `IterativeDecoder` versus `ChunkedDecoder`\n",
    "ChunkedDecoder has been changed based on this, so this code likely will not run correctly"
   ]
  },
  {
   "cell_type": "code",
   "execution_count": 29,
   "id": "46800eca",
   "metadata": {
    "ExecuteTime": {
     "end_time": "2021-06-23T15:07:01.919839Z",
     "start_time": "2021-06-23T15:07:01.915322Z"
    }
   },
   "outputs": [],
   "source": [
    "from hum.gen.sine_mix import freq_based_stationary_wf\n",
    "from recode import (ChunkedEncoder, \n",
    "                    ChunkedDecoder, \n",
    "                    IterativeDecoder, \n",
    "                    StructCodecSpecs)"
   ]
  },
  {
   "cell_type": "code",
   "execution_count": 30,
   "id": "3fbb0ac0",
   "metadata": {
    "ExecuteTime": {
     "end_time": "2021-06-23T15:07:03.357776Z",
     "start_time": "2021-06-23T15:07:02.049091Z"
    }
   },
   "outputs": [],
   "source": [
    "DFLT_N_SAMPLES = 21 * 2048\n",
    "DFLT_SR = 44100\n",
    "\n",
    "wf_mix = freq_based_stationary_wf(freqs=(200, 400, 600, 800), weights=None,\n",
    "                             n_samples = DFLT_N_SAMPLES*300, sr = DFLT_SR)"
   ]
  },
  {
   "cell_type": "code",
   "execution_count": 31,
   "id": "36bc6620",
   "metadata": {
    "ExecuteTime": {
     "end_time": "2021-06-23T15:07:08.559530Z",
     "start_time": "2021-06-23T15:07:03.361560Z"
    }
   },
   "outputs": [],
   "source": [
    "specs = StructCodecSpecs('d')\n",
    "encoder = ChunkedEncoder(frame_to_chk=specs.frame_to_chk)\n",
    "decoder = ChunkedDecoder(\n",
    "    chk_size_bytes=specs.chk_size_bytes,\n",
    "    chk_to_frame=specs.chk_to_frame,\n",
    "    n_channels=specs.n_channels\n",
    ")\n",
    "idecoder = IterativeDecoder(chk_to_frame = specs.chk_to_frame_iter)\n",
    "b = encoder(wf_mix)"
   ]
  },
  {
   "cell_type": "code",
   "execution_count": 32,
   "id": "64abba47",
   "metadata": {
    "ExecuteTime": {
     "end_time": "2021-06-23T15:07:08.565226Z",
     "start_time": "2021-06-23T15:07:08.562103Z"
    }
   },
   "outputs": [],
   "source": [
    "def it_to_list(it):\n",
    "    frame = list(it)\n",
    "    frame = [item for tup in frame for item in tup]\n",
    "    return frame"
   ]
  },
  {
   "cell_type": "code",
   "execution_count": 33,
   "id": "995ca34d",
   "metadata": {
    "ExecuteTime": {
     "end_time": "2021-06-23T15:08:04.480224Z",
     "start_time": "2021-06-23T15:07:08.569391Z"
    }
   },
   "outputs": [
    {
     "name": "stdout",
     "output_type": "stream",
     "text": [
      "5.59 s ± 14.5 ms per loop (mean ± std. dev. of 2 runs, 5 loops each)\n"
     ]
    }
   ],
   "source": [
    "%timeit -r 2 -n 5 list(decoder(b))"
   ]
  },
  {
   "cell_type": "code",
   "execution_count": 34,
   "id": "355a39cc",
   "metadata": {
    "ExecuteTime": {
     "end_time": "2021-06-23T15:08:24.855685Z",
     "start_time": "2021-06-23T15:08:04.484363Z"
    }
   },
   "outputs": [
    {
     "name": "stdout",
     "output_type": "stream",
     "text": [
      "2.04 s ± 13.4 ms per loop (mean ± std. dev. of 2 runs, 5 loops each)\n"
     ]
    }
   ],
   "source": [
    "%timeit -r 2 -n 5 it_to_list(idecoder(b))"
   ]
  }
 ],
 "metadata": {
  "kernelspec": {
   "display_name": "Python 3",
   "language": "python",
   "name": "python3"
  },
  "language_info": {
   "codemirror_mode": {
    "name": "ipython",
    "version": 3
   },
   "file_extension": ".py",
   "mimetype": "text/x-python",
   "name": "python",
   "nbconvert_exporter": "python",
   "pygments_lexer": "ipython3",
   "version": "3.8.10"
  },
  "toc": {
   "base_numbering": 1,
   "nav_menu": {},
   "number_sections": true,
   "sideBar": true,
   "skip_h1_title": false,
   "title_cell": "Table of Contents",
   "title_sidebar": "Contents",
   "toc_cell": true,
   "toc_position": {},
   "toc_section_display": true,
   "toc_window_display": false
  }
 },
 "nbformat": 4,
 "nbformat_minor": 5
}
